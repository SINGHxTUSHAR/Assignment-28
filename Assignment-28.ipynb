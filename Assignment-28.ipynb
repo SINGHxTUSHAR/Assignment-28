{
 "cells": [
  {
   "cell_type": "markdown",
   "id": "712a2c51",
   "metadata": {},
   "source": [
    "Q1. What are the three measures of central tendency?"
   ]
  },
  {
   "cell_type": "markdown",
   "id": "9dd70a51",
   "metadata": {},
   "source": [
    "The central tendency is stated as the statistical measure that represents the single value of the entire distribution or a dataset. It aims to provide an accurate description of the entire data in the distribution."
   ]
  },
  {
   "cell_type": "markdown",
   "id": "48699be6",
   "metadata": {},
   "source": [
    "* Mean : \n",
    "The mean represents the average value of the dataset. It can be calculated as the sum of all the values in the dataset divided by the number of values. In general, it is considered as the arithmetic mean.\n",
    "\n",
    "\n",
    "* Median : \n",
    "Median is the middle value of the dataset in which the dataset is arranged in the ascending order or in descending order. When the dataset contains an even number of values, then the median value of the dataset can be found by taking the mean of the middle two values.\n",
    "\n",
    "\n",
    "* Mode : \n",
    "The mode represents the frequently occurring value in the dataset. Sometimes the dataset may contain multiple modes and in some cases, it does not contain any mode at all."
   ]
  },
  {
   "cell_type": "code",
   "execution_count": null,
   "id": "10e67a46",
   "metadata": {},
   "outputs": [],
   "source": []
  },
  {
   "cell_type": "markdown",
   "id": "a3152d4b",
   "metadata": {},
   "source": [
    "Q2. What is the difference between the mean, median, and mode? How are they used to measure the\n",
    "central tendency of a dataset?"
   ]
  },
  {
   "cell_type": "markdown",
   "id": "00178640",
   "metadata": {},
   "source": [
    "These three terms are related to each other. There’s a relationship between mean, median and mode and is called an empirical relationship between them. Below are some of the most integral differences between the mean, median and mode.\n",
    "\n"
   ]
  },
  {
   "cell_type": "markdown",
   "id": "91bc6d43",
   "metadata": {},
   "source": [
    "Mean :\n",
    "\n",
    "* The average taken for a set of numbers is called a mean\n",
    "* Add all of the numbers together and divide the sum by the total number of values.\n",
    "* The result is the mean or average score\n",
    "* Example: To find the average of the four numbers 2, 4, 6, and 8, we need to add the number first.\n",
    "2 + 4 + 6+ 8 = 20\n",
    "Divide the sum by the total number of numbers, i. e 4.\n",
    "20/4 = 5 is the average or mean"
   ]
  },
  {
   "cell_type": "markdown",
   "id": "3ddaf105",
   "metadata": {},
   "source": [
    "Median :\n",
    "\n",
    "* The middle value in the data set is called the Median.\n",
    "* Place all the given numbers in an ascending order\n",
    "* The next step is to find the middle number on the list. It is called the median\n",
    "* Example: 4, 2, 8, 10, 19.\n",
    "Arrange the numbers in ascending order. i .e., 2, 4, 8, 10, 19.\n",
    "As the total numbers are 5, so the middle number 8 is the median here."
   ]
  },
  {
   "cell_type": "markdown",
   "id": "8dccefda",
   "metadata": {},
   "source": [
    "Mode :\n",
    "\n",
    "* The number that occurs the most in a given list of numbers is called a mode.\n",
    "* It shows the frequency of occurrence.\n",
    "* We can have more than one mode or no mode at all.\n",
    "* Example: 3, 3, 5, 6, 7, 7, 8, 1, 1, 1, 4, 5, 6.\n",
    "Find the frequency of each number.\n",
    "For number 3, it’s 2. For 5, it’s 2. For 6, it’s 2. For 7, it’s 2. For 8, it’s one. For 1, it’s 3. For 4, it’s 1.\n",
    "The number with the highest frequency is the mode. Hence, the mode of the given sequence of numbers is 1."
   ]
  },
  {
   "cell_type": "markdown",
   "id": "07179722",
   "metadata": {},
   "source": [
    "The central tendency can be found using the formulas of mean, median or mode in most of the cases. As we know, mean is the average of a given data set, median is the middlemost data value and the mode represents the most frequently occurring data value in the set"
   ]
  },
  {
   "cell_type": "code",
   "execution_count": null,
   "id": "c3d00ea0",
   "metadata": {},
   "outputs": [],
   "source": []
  },
  {
   "cell_type": "markdown",
   "id": "bd9f6c66",
   "metadata": {},
   "source": [
    "Q3. Measure the three measures of central tendency for the given height data:\n",
    "\n",
    "[178,177,176,177,178.2,178,175,179,180,175,178.9,176.2,177,172.5,178,176.5]"
   ]
  },
  {
   "cell_type": "code",
   "execution_count": 1,
   "id": "65828a28",
   "metadata": {},
   "outputs": [],
   "source": [
    "import numpy as np"
   ]
  },
  {
   "cell_type": "code",
   "execution_count": 2,
   "id": "4f09dbe8",
   "metadata": {},
   "outputs": [],
   "source": [
    "data = [178,177,176,177,178.2,178,175,179,180,175,178.9,176.2,177,172.5,178,176.5]"
   ]
  },
  {
   "cell_type": "code",
   "execution_count": 3,
   "id": "7ef7be0a",
   "metadata": {},
   "outputs": [
    {
     "data": {
      "text/plain": [
       "[178,\n",
       " 177,\n",
       " 176,\n",
       " 177,\n",
       " 178.2,\n",
       " 178,\n",
       " 175,\n",
       " 179,\n",
       " 180,\n",
       " 175,\n",
       " 178.9,\n",
       " 176.2,\n",
       " 177,\n",
       " 172.5,\n",
       " 178,\n",
       " 176.5]"
      ]
     },
     "execution_count": 3,
     "metadata": {},
     "output_type": "execute_result"
    }
   ],
   "source": [
    "data"
   ]
  },
  {
   "cell_type": "code",
   "execution_count": null,
   "id": "a09831e3",
   "metadata": {},
   "outputs": [],
   "source": [
    "## calculating the central tendency for the data {mean,median,mode}"
   ]
  },
  {
   "cell_type": "code",
   "execution_count": 4,
   "id": "b0ed0e3f",
   "metadata": {},
   "outputs": [
    {
     "data": {
      "text/plain": [
       "177.01875"
      ]
     },
     "execution_count": 4,
     "metadata": {},
     "output_type": "execute_result"
    }
   ],
   "source": [
    "# mean for the data\n",
    "np.mean(data)"
   ]
  },
  {
   "cell_type": "code",
   "execution_count": 5,
   "id": "f87d8c41",
   "metadata": {},
   "outputs": [
    {
     "data": {
      "text/plain": [
       "177.0"
      ]
     },
     "execution_count": 5,
     "metadata": {},
     "output_type": "execute_result"
    }
   ],
   "source": [
    "# median for the data\n",
    "np.median(data)"
   ]
  },
  {
   "cell_type": "code",
   "execution_count": 7,
   "id": "dad50476",
   "metadata": {},
   "outputs": [],
   "source": [
    "from scipy import stats"
   ]
  },
  {
   "cell_type": "code",
   "execution_count": 8,
   "id": "94fc6da6",
   "metadata": {},
   "outputs": [
    {
     "data": {
      "text/plain": [
       "ModeResult(mode=array([177.]), count=array([3]))"
      ]
     },
     "execution_count": 8,
     "metadata": {},
     "output_type": "execute_result"
    }
   ],
   "source": [
    "# mode for the data\n",
    "stats.mode(data)"
   ]
  },
  {
   "cell_type": "code",
   "execution_count": null,
   "id": "37bb7003",
   "metadata": {},
   "outputs": [],
   "source": []
  },
  {
   "cell_type": "markdown",
   "id": "1ce86c6c",
   "metadata": {},
   "source": [
    "Q4. Find the standard deviation for the given data:\n",
    "\n",
    "[178,177,176,177,178.2,178,175,179,180,175,178.9,176.2,177,172.5,178,176.5]"
   ]
  },
  {
   "cell_type": "code",
   "execution_count": 9,
   "id": "86f3b729",
   "metadata": {},
   "outputs": [],
   "source": [
    "data_std = [178,177,176,177,178.2,178,175,179,180,175,178.9,176.2,177,172.5,178,176.5]"
   ]
  },
  {
   "cell_type": "code",
   "execution_count": 10,
   "id": "c467b4e0",
   "metadata": {},
   "outputs": [
    {
     "data": {
      "text/plain": [
       "[178,\n",
       " 177,\n",
       " 176,\n",
       " 177,\n",
       " 178.2,\n",
       " 178,\n",
       " 175,\n",
       " 179,\n",
       " 180,\n",
       " 175,\n",
       " 178.9,\n",
       " 176.2,\n",
       " 177,\n",
       " 172.5,\n",
       " 178,\n",
       " 176.5]"
      ]
     },
     "execution_count": 10,
     "metadata": {},
     "output_type": "execute_result"
    }
   ],
   "source": [
    "data_std"
   ]
  },
  {
   "cell_type": "code",
   "execution_count": 11,
   "id": "0d0f0a56",
   "metadata": {},
   "outputs": [
    {
     "data": {
      "text/plain": [
       "1.7885814036548633"
      ]
     },
     "execution_count": 11,
     "metadata": {},
     "output_type": "execute_result"
    }
   ],
   "source": [
    "# standard deviation for the data_std\n",
    "np.std(data_std)"
   ]
  },
  {
   "cell_type": "code",
   "execution_count": null,
   "id": "b94d7d47",
   "metadata": {},
   "outputs": [],
   "source": []
  },
  {
   "cell_type": "markdown",
   "id": "dabf7ec4",
   "metadata": {},
   "source": [
    "Q5. How are measures of dispersion such as range, variance, and standard deviation used to describe\n",
    "the spread of a dataset? Provide an example."
   ]
  },
  {
   "cell_type": "markdown",
   "id": "be2b038c",
   "metadata": {},
   "source": [
    "Measures of Dispersion :\n",
    "In statistics, the measures of dispersion help to interpret the variability of data i.e. to know how much homogenous or heterogeneous the data is. In simple terms, it shows how squeezed or scattered the variable is.\n",
    "\n",
    "\n",
    "\n",
    "* Range: It is simply the difference between the maximum value and the minimum value given in a data set. Example: 1, 3,5, 6, 7 => Range = 7 -1= 6\n",
    "\n",
    "\n",
    "* Variance: Deduct the mean from each data in the set, square each of them and add each square and finally divide them by the total no of values in the data set to get the variance. Variance (σ2) = ∑(X−μ)2/N\n",
    "\n",
    "\n",
    "* Standard Deviation: The square root of the variance is known as the standard deviation i.e. S.D. = √σ."
   ]
  },
  {
   "cell_type": "markdown",
   "id": "b43352b8",
   "metadata": {},
   "source": [
    "Example 1: Find the Variance and Standard Deviation of the Following Numbers: 1, 3, 5, 5, 6, 7, 9, 10.\n",
    "\n",
    "Solution:\n",
    "\n",
    "The mean = (1+ 3+ 5+ 5+ 6+ 7+ 9+ 10)/8 = 46/ 8 = 5.75\n",
    "\n",
    "Step 1: Subtract the mean value from individual value\n",
    "\n",
    "(1 – 5.75), (3 – 5.75), (5 – 5.75), (5 – 5.75), (6 – 5.75), (7 – 5.75), (9 – 5.75), (10 – 5.75)\n",
    "\n",
    "= -4.75, -2.75, -0.75, -0.75, 0.25, 1.25, 3.25, 4.25\n",
    "\n",
    "Step 2: Squaring the above values we get, 22.563, 7.563, 0.563, 0.563, 0.063, 1.563, 10.563, 18.063\n",
    "\n",
    "Step 3: 22.563 + 7.563 + 0.563 + 0.563 + 0.063 + 1.563 + 10.563 + 18.063\n",
    "= 61.504\n",
    "\n",
    "Step 4: n = 8, therefore variance (σ2) = 61.504/ 8 = 7.69\n",
    "\n",
    "Now, Standard deviation (σ) = 2.77"
   ]
  },
  {
   "cell_type": "code",
   "execution_count": null,
   "id": "77813898",
   "metadata": {},
   "outputs": [],
   "source": []
  },
  {
   "cell_type": "code",
   "execution_count": null,
   "id": "c12f8dac",
   "metadata": {},
   "outputs": [],
   "source": []
  },
  {
   "cell_type": "markdown",
   "id": "0df35d15",
   "metadata": {},
   "source": [
    "Q6. What is a Venn diagram?"
   ]
  },
  {
   "cell_type": "markdown",
   "id": "77a5df52",
   "metadata": {},
   "source": [
    "A Venn diagram is an illustration that uses circles to show the relationships among things or finite groups of things. Circles that overlap have a commonality while circles that do not overlap do not share those traits."
   ]
  },
  {
   "cell_type": "code",
   "execution_count": null,
   "id": "7eb30373",
   "metadata": {},
   "outputs": [],
   "source": []
  },
  {
   "cell_type": "markdown",
   "id": "ce3be13d",
   "metadata": {},
   "source": [
    "Q7. For the two given sets A = (2,3,4,5,6,7) & B = (0,2,6,8,10). Find:"
   ]
  },
  {
   "cell_type": "code",
   "execution_count": 16,
   "id": "eca321a0",
   "metadata": {},
   "outputs": [],
   "source": [
    "A = {2,3,4,5,6,7}"
   ]
  },
  {
   "cell_type": "code",
   "execution_count": 17,
   "id": "137e309f",
   "metadata": {},
   "outputs": [],
   "source": [
    " B = {0,2,6,8,10}"
   ]
  },
  {
   "cell_type": "markdown",
   "id": "1e64ec43",
   "metadata": {},
   "source": [
    "(i) A intersection B"
   ]
  },
  {
   "cell_type": "code",
   "execution_count": 18,
   "id": "d09caba1",
   "metadata": {},
   "outputs": [
    {
     "name": "stdout",
     "output_type": "stream",
     "text": [
      "{2, 6}\n"
     ]
    }
   ],
   "source": [
    "print(A.intersection(B))"
   ]
  },
  {
   "cell_type": "markdown",
   "id": "2a12d184",
   "metadata": {},
   "source": [
    "(ii) A union B"
   ]
  },
  {
   "cell_type": "code",
   "execution_count": 19,
   "id": "700bafc9",
   "metadata": {},
   "outputs": [
    {
     "name": "stdout",
     "output_type": "stream",
     "text": [
      "{0, 2, 3, 4, 5, 6, 7, 8, 10}\n"
     ]
    }
   ],
   "source": [
    "print(A.union(B))"
   ]
  },
  {
   "cell_type": "code",
   "execution_count": null,
   "id": "04f91e20",
   "metadata": {},
   "outputs": [],
   "source": []
  },
  {
   "cell_type": "markdown",
   "id": "b82237f4",
   "metadata": {},
   "source": [
    "Q8. What do you understand about skewness in data?"
   ]
  },
  {
   "cell_type": "markdown",
   "id": "b4244c2d",
   "metadata": {},
   "source": [
    "Skewness is a measurement of the distortion of symmetrical distribution or asymmetry in a data set. Skewness is demonstrated on a bell curve when data points are not distributed symmetrically to the left and right sides of the median on a bell curve. If the bell curve is shifted to the left or the right, it is said to be skewed"
   ]
  },
  {
   "cell_type": "markdown",
   "id": "23678032",
   "metadata": {},
   "source": [
    "Skewness can be quantified as a representation of the extent to which a given distribution varies from a normal distribution. A normal distribution has a zero skew, while a lognormal distribution, for example, would exhibit some right skew."
   ]
  },
  {
   "cell_type": "code",
   "execution_count": null,
   "id": "97e9a5c3",
   "metadata": {},
   "outputs": [],
   "source": []
  },
  {
   "cell_type": "markdown",
   "id": "cac7be72",
   "metadata": {},
   "source": [
    "Q9. If a data is right skewed then what will be the position of median with respect to mean?"
   ]
  },
  {
   "cell_type": "markdown",
   "id": "8c08044b",
   "metadata": {},
   "source": [
    "The position of the median is left to the position of mean on the data points axis which is usually x-axis.\n",
    "\n",
    "As (mean >= median >= mode) for the right skewed."
   ]
  },
  {
   "cell_type": "code",
   "execution_count": null,
   "id": "3e8b6c32",
   "metadata": {},
   "outputs": [],
   "source": []
  },
  {
   "cell_type": "code",
   "execution_count": null,
   "id": "e7059c92",
   "metadata": {},
   "outputs": [],
   "source": []
  },
  {
   "cell_type": "markdown",
   "id": "13a6c0a5",
   "metadata": {},
   "source": [
    "Q10. Explain the difference between covariance and correlation. How are these measures used in\n",
    "statistical analysis?"
   ]
  },
  {
   "cell_type": "markdown",
   "id": "51369199",
   "metadata": {},
   "source": [
    "Covariance:\n",
    "    \n",
    "\n",
    "Covariance is a statistical term that refers to a systematic relationship between two random variables in which a change in the other reflects a change in one variable.\n",
    "\n",
    "The covariance value can range from -∞ to +∞, with a negative value indicating a negative relationship and a positive value indicating a positive relationship.\n",
    "\n",
    "The greater this number, the more reliant the relationship. Positive covariance denotes a direct relationship and is represented by a positive number.\n",
    "\n",
    "A negative number, on the other hand, denotes negative covariance, which indicates an inverse relationship between the two variables. Covariance is great for defining the type of relationship, but it's terrible for interpreting the magnitude."
   ]
  },
  {
   "attachments": {
    "image.png": {
     "image/png": "[encoded data removed]"
    }
   },
   "cell_type": "markdown",
   "id": "d2e6ba43",
   "metadata": {},
   "source": [
    "![image.png](attachment:image.png)"
   ]
  },
  {
   "cell_type": "markdown",
   "id": "39e92932",
   "metadata": {},
   "source": [
    "Where,\n",
    "\n",
    "xi = data value of x\n",
    "\n",
    "yi = data value of y\n",
    "\n",
    "x̄ = mean of x\n",
    "\n",
    "ȳ = mean of y\n",
    "\n",
    "N = number of data values."
   ]
  },
  {
   "cell_type": "code",
   "execution_count": null,
   "id": "bffd36f8",
   "metadata": {},
   "outputs": [],
   "source": []
  },
  {
   "cell_type": "markdown",
   "id": "91c773e1",
   "metadata": {},
   "source": [
    "Positive Covariance :\n",
    "\n",
    "\n",
    "A positive covariance between two variables indicates that they are heading in the same direction. The variables, in this case, behave similarly. That is, if the values of one variable (more or smaller) correspond to the values of another variable, they are said to be in positive covariance."
   ]
  },
  {
   "cell_type": "markdown",
   "id": "175a2384",
   "metadata": {},
   "source": [
    "Negative Covariance :\n",
    "\n",
    "When two variables have a negative covariance, the variables shift in the opposite direction. It is the inverse of positive covariance, in which higher values of one variable correlate to lower values of another and vice versa."
   ]
  },
  {
   "cell_type": "code",
   "execution_count": null,
   "id": "4168f72a",
   "metadata": {},
   "outputs": [],
   "source": []
  },
  {
   "cell_type": "markdown",
   "id": "9b857659",
   "metadata": {},
   "source": [
    "correlation :\n",
    "\n",
    "In statistics, correlation is a measure that determines the degree to which two or more random variables move in sequence. When an equivalent movement of another variable reciprocates the movement of one variable in some way or another during the study of two variables, the variables are said to be correlated. The formula for correlation is:"
   ]
  },
  {
   "attachments": {
    "image.png": {
     "image/png": "[encoded data removed]"
    }
   },
   "cell_type": "markdown",
   "id": "83769b59",
   "metadata": {},
   "source": [
    "![image.png](attachment:image.png)"
   ]
  },
  {
   "cell_type": "markdown",
   "id": "237dbf1e",
   "metadata": {},
   "source": [
    "where,\n",
    "\n",
    "var(X) = standard deviation of X\n",
    "\n",
    "var(Y) = standard deviation of Y"
   ]
  },
  {
   "cell_type": "code",
   "execution_count": null,
   "id": "f3e00e64",
   "metadata": {},
   "outputs": [],
   "source": []
  },
  {
   "cell_type": "code",
   "execution_count": null,
   "id": "f94bc9c2",
   "metadata": {},
   "outputs": [],
   "source": []
  },
  {
   "cell_type": "markdown",
   "id": "9d5a0fab",
   "metadata": {},
   "source": [
    "Q11. What is the formula for calculating the sample mean? Provide an example calculation for a\n",
    "dataset."
   ]
  },
  {
   "cell_type": "markdown",
   "id": "96714854",
   "metadata": {},
   "source": [
    "The Sample Mean is the average mathematical value of a sample’s values. It is a statistical indicator used to analyze various variables over time. Statisticians and researchers obtain it by dividing the total sum of values of all data fragments and then dividing it by the total number of data sets. Statistical researchers mathematically represent it as follows:"
   ]
  },
  {
   "attachments": {
    "image.png": {
     "image/png": "[encoded data removed]"
    }
   },
   "cell_type": "markdown",
   "id": "92b2957e",
   "metadata": {},
   "source": [
    "![image.png](attachment:image.png)"
   ]
  },
  {
   "cell_type": "markdown",
   "id": "d0d8f155",
   "metadata": {},
   "source": [
    "Where X̄ = Simple average or Mean \n",
    "\n",
    "X = variable with different values, and\n",
    "\n",
    "N= total number of variable observations."
   ]
  },
  {
   "cell_type": "code",
   "execution_count": null,
   "id": "d4c24b19",
   "metadata": {},
   "outputs": [],
   "source": []
  },
  {
   "cell_type": "code",
   "execution_count": null,
   "id": "16b6ad8b",
   "metadata": {},
   "outputs": [],
   "source": []
  },
  {
   "cell_type": "markdown",
   "id": "e553df72",
   "metadata": {},
   "source": [
    "Q12. For a normal distribution data what is the relationship between its measure of central tendency?"
   ]
  },
  {
   "cell_type": "markdown",
   "id": "6e98f5e5",
   "metadata": {},
   "source": [
    "Any normal distribution has a graph that is perfectly symmetric about a vertical line through its peak. Therefore, all measures of central tendency (most commonly, the mean, median, and mode) give the same answer: the x -value of the peak."
   ]
  },
  {
   "cell_type": "markdown",
   "id": "427078b1",
   "metadata": {},
   "source": [
    "mean = median = mode "
   ]
  },
  {
   "cell_type": "code",
   "execution_count": null,
   "id": "426ba1ea",
   "metadata": {},
   "outputs": [],
   "source": []
  },
  {
   "cell_type": "markdown",
   "id": "5160bcde",
   "metadata": {},
   "source": [
    "Q13. How is covariance different from correlation?"
   ]
  },
  {
   "cell_type": "markdown",
   "id": "962c04d8",
   "metadata": {},
   "source": [
    "Correlation Vs Covariance :"
   ]
  },
  {
   "attachments": {
    "image.png": {
     "image/png": "[encoded data removed]"
    }
   },
   "cell_type": "markdown",
   "id": "e6fd6599",
   "metadata": {},
   "source": [
    "![image.png](attachment:image.png)"
   ]
  },
  {
   "cell_type": "code",
   "execution_count": null,
   "id": "c25fb230",
   "metadata": {},
   "outputs": [],
   "source": []
  },
  {
   "cell_type": "markdown",
   "id": "50923cba",
   "metadata": {},
   "source": [
    "Q14. How do outliers affect measures of central tendency and dispersion? Provide an example."
   ]
  },
  {
   "cell_type": "markdown",
   "id": "c8b9d596",
   "metadata": {},
   "source": [
    "When a outlier is present it can effect the shape of the graph, if we have outliers to the right of the graph. These outliers are causing the mean to increase, but if we have outliers to the left of the graph these outliers are dragging down the mean. This causes a conflict because the mean no longer provides a good representation of the data, alternatively we would much rather use the median. The median on the other hand is less likely to be affect by outliers."
   ]
  },
  {
   "cell_type": "code",
   "execution_count": null,
   "id": "2a8fbf38",
   "metadata": {},
   "outputs": [],
   "source": []
  }
 ],
 "metadata": {
  "kernelspec": {
   "display_name": "Python 3 (ipykernel)",
   "language": "python",
   "name": "python3"
  },
  "language_info": {
   "codemirror_mode": {
    "name": "ipython",
    "version": 3
   },
   "file_extension": ".py",
   "mimetype": "text/x-python",
   "name": "python",
   "nbconvert_exporter": "python",
   "pygments_lexer": "ipython3",
   "version": "3.9.12"
  }
 },
 "nbformat": 4,
 "nbformat_minor": 5
}
